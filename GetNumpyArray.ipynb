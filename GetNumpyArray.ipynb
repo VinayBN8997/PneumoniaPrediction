{
 "cells": [
  {
   "cell_type": "code",
   "execution_count": 65,
   "metadata": {},
   "outputs": [],
   "source": [
    "from os import listdir\n",
    "from numpy import asarray\n",
    "from numpy import vstack\n",
    "from keras.preprocessing.image import img_to_array\n",
    "from keras.preprocessing.image import load_img\n",
    "from numpy import savez_compressed\n",
    "from tqdm import tqdm_notebook as tqdm\n",
    "import numpy as np\n",
    "import random\n",
    "import cv2\n",
    "import tensorflow as tf"
   ]
  },
  {
   "cell_type": "code",
   "execution_count": 66,
   "metadata": {},
   "outputs": [],
   "source": [
    "def load_images(value_path, size=(256,256)):\n",
    "    data_list = list()\n",
    "    value_list = list()\n",
    "    paths = [value_path+\"NORMAL/\",value_path+\"PNEUMONIA/\"]\n",
    "    # enumerate filenames in directory, assume all are images\n",
    "    for path in paths:\n",
    "        for filename in tqdm(listdir(path)):\n",
    "            try:\n",
    "                # load and resize the image\n",
    "                pixels = load_img(path + filename, target_size=size)\n",
    "                # convert to numpy array\n",
    "                pixels = img_to_array(pixels)\n",
    "                # store\n",
    "                data_list.append(pixels)\n",
    "                if path == value_path+\"NORMAL/\":\n",
    "                    value_list.append(0)\n",
    "                else:\n",
    "                    value_list.append(1)\n",
    "            except Exception as e:\n",
    "                print(e)\n",
    "                continue\n",
    "    print(\"Length: \",len(value_list))\n",
    "    random_parameter = 123\n",
    "    random.Random(random_parameter).shuffle(data_list)\n",
    "    data_list = asarray(data_list)\n",
    "    random.Random(random_parameter).shuffle(value_list)\n",
    "    value_list = asarray(value_list)\n",
    "    print(data_list.shape)\n",
    "    print(value_list.shape)\n",
    "    return [data_list,value_list]"
   ]
  },
  {
   "cell_type": "code",
   "execution_count": 67,
   "metadata": {},
   "outputs": [
    {
     "data": {
      "application/vnd.jupyter.widget-view+json": {
       "model_id": "4b851c3ee3a442a082a472e36a3d78bc",
       "version_major": 2,
       "version_minor": 0
      },
      "text/plain": [
       "HBox(children=(IntProgress(value=0, max=1341), HTML(value='')))"
      ]
     },
     "metadata": {},
     "output_type": "display_data"
    },
    {
     "data": {
      "application/vnd.jupyter.widget-view+json": {
       "model_id": "0e26a97eec5a42fc8c52701834546500",
       "version_major": 2,
       "version_minor": 0
      },
      "text/plain": [
       "HBox(children=(IntProgress(value=0, max=3875), HTML(value='')))"
      ]
     },
     "metadata": {},
     "output_type": "display_data"
    },
    {
     "name": "stdout",
     "output_type": "stream",
     "text": [
      "Length:  5216\n",
      "(5216, 256, 256, 3)\n",
      "(5216,)\n"
     ]
    }
   ],
   "source": [
    "Training_data = load_images('train/')\n",
    "X_train = Training_data[0]\n",
    "y_train = Training_data[1]"
   ]
  },
  {
   "cell_type": "code",
   "execution_count": 68,
   "metadata": {},
   "outputs": [
    {
     "name": "stdout",
     "output_type": "stream",
     "text": [
      "Saved dataset:  PNEUMONIA_train.npz\n"
     ]
    }
   ],
   "source": [
    "filename = 'PNEUMONIA_train.npz'\n",
    "savez_compressed(filename, X_train, y_train)\n",
    "print('Saved dataset: ', filename)"
   ]
  },
  {
   "cell_type": "code",
   "execution_count": 69,
   "metadata": {},
   "outputs": [
    {
     "data": {
      "application/vnd.jupyter.widget-view+json": {
       "model_id": "7f22305cf0554f0aa64b35b830bc5c5a",
       "version_major": 2,
       "version_minor": 0
      },
      "text/plain": [
       "HBox(children=(IntProgress(value=0, max=8), HTML(value='')))"
      ]
     },
     "metadata": {},
     "output_type": "display_data"
    },
    {
     "data": {
      "application/vnd.jupyter.widget-view+json": {
       "model_id": "9294d977d1824fbba7425ed5e077e336",
       "version_major": 2,
       "version_minor": 0
      },
      "text/plain": [
       "HBox(children=(IntProgress(value=0, max=8), HTML(value='')))"
      ]
     },
     "metadata": {},
     "output_type": "display_data"
    },
    {
     "name": "stdout",
     "output_type": "stream",
     "text": [
      "Length:  16\n",
      "(16, 256, 256, 3)\n",
      "(16,)\n"
     ]
    }
   ],
   "source": [
    "Validation_data = load_images('val/')\n",
    "X_val = Validation_data[0]\n",
    "y_val = Validation_data[1]"
   ]
  },
  {
   "cell_type": "code",
   "execution_count": 70,
   "metadata": {},
   "outputs": [
    {
     "name": "stdout",
     "output_type": "stream",
     "text": [
      "Saved dataset:  PNEUMONIA_val.npz\n"
     ]
    }
   ],
   "source": [
    "filename = 'PNEUMONIA_val.npz'\n",
    "savez_compressed(filename, X_val, y_val)\n",
    "print('Saved dataset: ', filename)"
   ]
  },
  {
   "cell_type": "code",
   "execution_count": 71,
   "metadata": {},
   "outputs": [
    {
     "data": {
      "application/vnd.jupyter.widget-view+json": {
       "model_id": "fadd44c28a0b4355963f9f5ca31abeec",
       "version_major": 2,
       "version_minor": 0
      },
      "text/plain": [
       "HBox(children=(IntProgress(value=0, max=234), HTML(value='')))"
      ]
     },
     "metadata": {},
     "output_type": "display_data"
    },
    {
     "data": {
      "application/vnd.jupyter.widget-view+json": {
       "model_id": "a670ee4f1e6c425293ab8d7d7b0b53d3",
       "version_major": 2,
       "version_minor": 0
      },
      "text/plain": [
       "HBox(children=(IntProgress(value=0, max=390), HTML(value='')))"
      ]
     },
     "metadata": {},
     "output_type": "display_data"
    },
    {
     "name": "stdout",
     "output_type": "stream",
     "text": [
      "Length:  624\n",
      "(624, 256, 256, 3)\n",
      "(624,)\n"
     ]
    }
   ],
   "source": [
    "Testing_data = load_images('test/')\n",
    "X_test = Testing_data[0]\n",
    "y_test = Testing_data[1]"
   ]
  },
  {
   "cell_type": "code",
   "execution_count": 72,
   "metadata": {},
   "outputs": [
    {
     "name": "stdout",
     "output_type": "stream",
     "text": [
      "Saved dataset:  PNEUMONIA_test.npz\n"
     ]
    }
   ],
   "source": [
    "filename = 'PNEUMONIA_test.npz'\n",
    "savez_compressed(filename, X_test, y_test)\n",
    "print('Saved dataset: ', filename)"
   ]
  },
  {
   "cell_type": "code",
   "execution_count": null,
   "metadata": {},
   "outputs": [],
   "source": []
  }
 ],
 "metadata": {
  "kernelspec": {
   "display_name": "Python 3",
   "language": "python",
   "name": "python3"
  },
  "language_info": {
   "codemirror_mode": {
    "name": "ipython",
    "version": 3
   },
   "file_extension": ".py",
   "mimetype": "text/x-python",
   "name": "python",
   "nbconvert_exporter": "python",
   "pygments_lexer": "ipython3",
   "version": "3.7.2"
  }
 },
 "nbformat": 4,
 "nbformat_minor": 2
}
